{
 "cells": [
  {
   "cell_type": "markdown",
   "metadata": {},
   "source": [
    "# Bayesian Optimisation for Convolutional Networks"
   ]
  },
  {
   "cell_type": "code",
   "execution_count": 1,
   "metadata": {},
   "outputs": [],
   "source": [
    "import torch\n",
    "import torch.nn as nn\n",
    "import torchvision\n",
    "import torchvision.transforms as transforms"
   ]
  },
  {
   "cell_type": "code",
   "execution_count": 2,
   "metadata": {},
   "outputs": [],
   "source": [
    "import numpy as np\n",
    "import os\n",
    "import matplotlib.pyplot as plt"
   ]
  },
  {
   "cell_type": "code",
   "execution_count": 3,
   "metadata": {},
   "outputs": [
    {
     "data": {
      "text/plain": [
       "'/Users/travis/Documents/Education/Barcelona GSE/Quarter 3/topics II/hrvoje/fashionMNIST-bayesian-optimization'"
      ]
     },
     "execution_count": 3,
     "metadata": {},
     "output_type": "execute_result"
    }
   ],
   "source": [
    "os.getcwd()"
   ]
  },
  {
   "cell_type": "code",
   "execution_count": 4,
   "metadata": {},
   "outputs": [],
   "source": [
    "# Hyper parameters\n",
    "num_epochs = 1\n",
    "num_classes = 10\n",
    "batch_size = 100\n",
    "learning_rate = 0.001"
   ]
  },
  {
   "cell_type": "code",
   "execution_count": 5,
   "metadata": {},
   "outputs": [],
   "source": [
    "from CNN_test_model import test_model"
   ]
  },
  {
   "cell_type": "code",
   "execution_count": 6,
   "metadata": {},
   "outputs": [
    {
     "name": "stdout",
     "output_type": "stream",
     "text": [
      "Epoch [1/1], Step [100/600], Loss: 0.7352\n",
      "Epoch [1/1], Step [200/600], Loss: 0.6256\n",
      "Epoch [1/1], Step [300/600], Loss: 0.4729\n",
      "Epoch [1/1], Step [400/600], Loss: 0.6472\n",
      "Epoch [1/1], Step [500/600], Loss: 0.5154\n",
      "Epoch [1/1], Step [600/600], Loss: 0.6390\n",
      "Test Accuracy of the model on the 10000 test images: 77.65 %\n"
     ]
    },
    {
     "data": {
      "text/plain": [
       "0.7765"
      ]
     },
     "execution_count": 6,
     "metadata": {},
     "output_type": "execute_result"
    }
   ],
   "source": [
    "test_model(dropout = 0.2, learning_rate = 0.001)"
   ]
  },
  {
   "cell_type": "markdown",
   "metadata": {},
   "source": [
    "###### Bayesian Optimisation with bayes_opt"
   ]
  },
  {
   "cell_type": "code",
   "execution_count": null,
   "metadata": {},
   "outputs": [],
   "source": [
    "from bayes_opt import BayesianOptimization\n",
    "from sklearn.cross_validation import cross_val_score, StratifiedKFold, StratifiedShuffleSplit\n",
    "from sklearn.metrics import log_loss, matthews_corrcoef, roc_auc_score\n",
    "from sklearn.preprocessing import MinMaxScaler\n",
    "import contextlib\n",
    "from tqdm import tqdm"
   ]
  },
  {
   "cell_type": "code",
   "execution_count": null,
   "metadata": {},
   "outputs": [],
   "source": [
    "# Set the ranges of the hyperparamaters we want to explore \n",
    "ConvNet_param_bounds = {\n",
    "    'num_channels_1': (1,3),\n",
    "    'num_channels_2': (1,3),\n",
    "    'learning_rate':  (0.05, 0.95)\n",
    "}\n",
    "\n",
    "# Set the GP Parameters \n",
    "gp_params = {'kernel': None,\n",
    "             'alpha': 1e-5}\n",
    "\n",
    "# Initialize BO object \n",
    "bo = BayesianOptimization(test_model, ConvNet_param_bounds)"
   ]
  },
  {
   "cell_type": "code",
   "execution_count": null,
   "metadata": {},
   "outputs": [],
   "source": [
    "# Initialize \n",
    "bo.explore"
   ]
  },
  {
   "cell_type": "code",
   "execution_count": null,
   "metadata": {},
   "outputs": [],
   "source": [
    "bo.maximize(init_points=5, n_iter=15, acq='ucb', kappa=2)"
   ]
  },
  {
   "cell_type": "code",
   "execution_count": null,
   "metadata": {},
   "outputs": [],
   "source": [
    "print(bo.res['max'])"
   ]
  },
  {
   "cell_type": "markdown",
   "metadata": {},
   "source": [
    "###### Bayesian Optimisation with pyGPGO\n",
    "Matern32 covariance:\n",
    "\n"
   ]
  },
  {
   "cell_type": "code",
   "execution_count": 7,
   "metadata": {},
   "outputs": [],
   "source": [
    "import numpy as np\n",
    "from pyGPGO.covfunc import matern32\n",
    "from pyGPGO.acquisition import Acquisition\n",
    "from pyGPGO.surrogates.GaussianProcess import GaussianProcess\n",
    "from pyGPGO.GPGO import GPGO"
   ]
  },
  {
   "cell_type": "code",
   "execution_count": 8,
   "metadata": {},
   "outputs": [],
   "source": [
    "cov = matern32() # other kernel types: sqdExp, matern, matern52, gammaExp, rationalQuadratic\n",
    "gp = GaussianProcess(cov)\n",
    "acq = Acquisition(mode='ExpectedImprovement')  # other modes: UCB, ProbabilityImprovement, loads more\n",
    "param = {'dropout': ('cont', [0, 1]),\n",
    "         'learning_rate': ('cont', [0.1,1])\n",
    "        }"
   ]
  },
  {
   "cell_type": "code",
   "execution_count": 9,
   "metadata": {},
   "outputs": [
    {
     "name": "stdout",
     "output_type": "stream",
     "text": [
      "Evaluation \t Proposed point \t  Current eval. \t Best eval.\n",
      "Epoch [1/1], Step [100/600], Loss: 1.2489\n",
      "Epoch [1/1], Step [200/600], Loss: 1.4002\n",
      "Epoch [1/1], Step [300/600], Loss: 0.8051\n",
      "Epoch [1/1], Step [400/600], Loss: 1.2687\n",
      "Epoch [1/1], Step [500/600], Loss: 1.1375\n",
      "Epoch [1/1], Step [600/600], Loss: 0.9765\n",
      "Test Accuracy of the model on the 10000 test images: 61.44 %\n",
      "Epoch [1/1], Step [100/600], Loss: 1.9740\n",
      "Epoch [1/1], Step [200/600], Loss: 1.9003\n",
      "Epoch [1/1], Step [300/600], Loss: 1.7252\n",
      "Epoch [1/1], Step [400/600], Loss: 1.6259\n",
      "Epoch [1/1], Step [500/600], Loss: 2.0534\n",
      "Epoch [1/1], Step [600/600], Loss: 2.3389\n",
      "Test Accuracy of the model on the 10000 test images: 10.12 %\n",
      "Epoch [1/1], Step [100/600], Loss: 2.1143\n",
      "Epoch [1/1], Step [200/600], Loss: 2.0662\n",
      "Epoch [1/1], Step [300/600], Loss: 1.6225\n",
      "Epoch [1/1], Step [400/600], Loss: 1.6553\n",
      "Epoch [1/1], Step [500/600], Loss: 1.6926\n",
      "Epoch [1/1], Step [600/600], Loss: 1.4427\n",
      "Test Accuracy of the model on the 10000 test images: 39.52 %\n",
      "init   \t [0.26202468 0.24281557]. \t  0.6144 \t 0.6144\n",
      "init   \t [0.27812652 0.5133852 ]. \t  0.1012 \t 0.6144\n",
      "init   \t [0.32100054 0.56655354]. \t  0.3952 \t 0.6144\n",
      "Epoch [1/1], Step [100/600], Loss: 2.4645\n",
      "Epoch [1/1], Step [200/600], Loss: 2.3015\n",
      "Epoch [1/1], Step [300/600], Loss: 2.3718\n",
      "Epoch [1/1], Step [400/600], Loss: 2.4383\n",
      "Epoch [1/1], Step [500/600], Loss: 2.3767\n",
      "Epoch [1/1], Step [600/600], Loss: 2.3909\n",
      "Test Accuracy of the model on the 10000 test images: 10.0 %\n",
      "1      \t [0.89927532 0.4873497 ]. \t  0.1    \t 0.6144\n",
      "Epoch [1/1], Step [100/600], Loss: 1.2220\n",
      "Epoch [1/1], Step [200/600], Loss: 1.1392\n",
      "Epoch [1/1], Step [300/600], Loss: 1.2747\n",
      "Epoch [1/1], Step [400/600], Loss: 1.0794\n",
      "Epoch [1/1], Step [500/600], Loss: 0.9541\n",
      "Epoch [1/1], Step [600/600], Loss: 1.0732\n",
      "Test Accuracy of the model on the 10000 test images: 56.54 %\n",
      "2      \t [0.38373372 0.1       ]. \t  0.5654 \t 0.6144\n",
      "Epoch [1/1], Step [100/600], Loss: 2.3718\n",
      "Epoch [1/1], Step [200/600], Loss: 2.3531\n",
      "Epoch [1/1], Step [300/600], Loss: 2.3739\n",
      "Epoch [1/1], Step [400/600], Loss: 2.3269\n",
      "Epoch [1/1], Step [500/600], Loss: 2.2869\n",
      "Epoch [1/1], Step [600/600], Loss: 2.4119\n",
      "Test Accuracy of the model on the 10000 test images: 9.71 %\n",
      "3      \t [0.5289827 1.       ]. \t  0.0971 \t 0.6144\n",
      "Epoch [1/1], Step [100/600], Loss: 1.9747\n",
      "Epoch [1/1], Step [200/600], Loss: 2.1209\n",
      "Epoch [1/1], Step [300/600], Loss: 2.0054\n",
      "Epoch [1/1], Step [400/600], Loss: 2.3627\n",
      "Epoch [1/1], Step [500/600], Loss: 2.3144\n",
      "Epoch [1/1], Step [600/600], Loss: 2.2798\n",
      "Test Accuracy of the model on the 10000 test images: 9.93 %\n",
      "4      \t [0.49835177 0.61957024]. \t  0.0993 \t 0.6144\n",
      "Epoch [1/1], Step [100/600], Loss: 0.4623\n",
      "Epoch [1/1], Step [200/600], Loss: 0.7273\n",
      "Epoch [1/1], Step [300/600], Loss: 0.6019\n",
      "Epoch [1/1], Step [400/600], Loss: 0.5911\n",
      "Epoch [1/1], Step [500/600], Loss: 0.6335\n",
      "Epoch [1/1], Step [600/600], Loss: 0.6609\n",
      "Test Accuracy of the model on the 10000 test images: 76.72 %\n",
      "5      \t [0.11397985 0.1       ]. \t  \u001b[92m0.7672\u001b[0m \t 0.7672\n",
      "Epoch [1/1], Step [100/600], Loss: 2.3245\n",
      "Epoch [1/1], Step [200/600], Loss: 2.2920\n",
      "Epoch [1/1], Step [300/600], Loss: 2.3098\n",
      "Epoch [1/1], Step [400/600], Loss: 2.3765\n",
      "Epoch [1/1], Step [500/600], Loss: 2.3031\n",
      "Epoch [1/1], Step [600/600], Loss: 2.3743\n",
      "Test Accuracy of the model on the 10000 test images: 10.0 %\n",
      "6      \t [0. 1.]. \t  0.1    \t 0.7672\n",
      "Epoch [1/1], Step [100/600], Loss: 2.3026\n",
      "Epoch [1/1], Step [200/600], Loss: 2.3026\n",
      "Epoch [1/1], Step [300/600], Loss: 2.3026\n",
      "Epoch [1/1], Step [400/600], Loss: 2.3026\n",
      "Epoch [1/1], Step [500/600], Loss: 2.3026\n",
      "Epoch [1/1], Step [600/600], Loss: 2.3026\n",
      "Test Accuracy of the model on the 10000 test images: 10.0 %\n",
      "7      \t [1.  0.1]. \t  0.1    \t 0.7672\n",
      "Epoch [1/1], Step [100/600], Loss: 0.7914\n",
      "Epoch [1/1], Step [200/600], Loss: 0.8303\n",
      "Epoch [1/1], Step [300/600], Loss: 0.7320\n",
      "Epoch [1/1], Step [400/600], Loss: 0.7530\n",
      "Epoch [1/1], Step [500/600], Loss: 0.7847\n",
      "Epoch [1/1], Step [600/600], Loss: 0.8256\n",
      "Test Accuracy of the model on the 10000 test images: 72.37 %\n",
      "8      \t [0.20172307 0.1       ]. \t  0.7237 \t 0.7672\n",
      "Epoch [1/1], Step [100/600], Loss: 0.6165\n",
      "Epoch [1/1], Step [200/600], Loss: 0.7174\n",
      "Epoch [1/1], Step [300/600], Loss: 0.5102\n",
      "Epoch [1/1], Step [400/600], Loss: 0.5992\n",
      "Epoch [1/1], Step [500/600], Loss: 0.3047\n",
      "Epoch [1/1], Step [600/600], Loss: 0.4594\n",
      "Test Accuracy of the model on the 10000 test images: 84.17 %\n",
      "9      \t [0.  0.1]. \t  \u001b[92m0.8417\u001b[0m \t 0.8417\n",
      "Epoch [1/1], Step [100/600], Loss: 2.3026\n",
      "Epoch [1/1], Step [200/600], Loss: 2.3026\n",
      "Epoch [1/1], Step [300/600], Loss: 2.3026\n",
      "Epoch [1/1], Step [400/600], Loss: 2.3026\n",
      "Epoch [1/1], Step [500/600], Loss: 2.3026\n",
      "Epoch [1/1], Step [600/600], Loss: 2.3026\n",
      "Test Accuracy of the model on the 10000 test images: 10.0 %\n",
      "10     \t [1. 1.]. \t  0.1    \t 0.8417\n"
     ]
    }
   ],
   "source": [
    "np.random.seed(1337)\n",
    "gpgo = GPGO(gp, acq, test_model, param)\n",
    "gpgo.run(max_iter=10)"
   ]
  },
  {
   "cell_type": "code",
   "execution_count": null,
   "metadata": {},
   "outputs": [],
   "source": []
  }
 ],
 "metadata": {
  "kernelspec": {
   "display_name": "Python 3",
   "language": "python",
   "name": "python3"
  },
  "language_info": {
   "codemirror_mode": {
    "name": "ipython",
    "version": 3
   },
   "file_extension": ".py",
   "mimetype": "text/x-python",
   "name": "python",
   "nbconvert_exporter": "python",
   "pygments_lexer": "ipython3",
   "version": "3.6.5"
  }
 },
 "nbformat": 4,
 "nbformat_minor": 2
}
