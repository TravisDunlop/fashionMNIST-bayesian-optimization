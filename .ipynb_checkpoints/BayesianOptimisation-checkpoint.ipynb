{
 "cells": [
  {
   "cell_type": "markdown",
   "metadata": {},
   "source": [
    "# Hyperparameter Optimisation for CNNs \n",
    "In this project we consider the problem of hyperparameter tuning for convolutional neural networks (CNNs) with two convolutional layers. The aim is to classify images in the Fashion MINST dataset, which consists of 70,000 labelled black & white images of fashion items split into 10 categories. 60,000 of these observations are used for training and 10,000 for testing. We aim to optimise two hyperparameters, namely learning rate and drop out and explore two methodologies for doing this, Random Search (RS) and Bayesian Optimisation (BO). "
   ]
  },
  {
   "cell_type": "code",
   "execution_count": 1,
   "metadata": {},
   "outputs": [],
   "source": [
    "import torch\n",
    "import torch.nn as nn\n",
    "import torchvision\n",
    "import torchvision.transforms as transforms"
   ]
  },
  {
   "cell_type": "code",
   "execution_count": 2,
   "metadata": {},
   "outputs": [],
   "source": [
    "from time import time\n",
    "import numpy as np\n",
    "import os\n",
    "import matplotlib.pyplot as plt"
   ]
  },
  {
   "cell_type": "code",
   "execution_count": 3,
   "metadata": {},
   "outputs": [
    {
     "data": {
      "text/plain": [
       "'/Users/matthewkeys/Desktop/BigDataTopicsII/Hrvoje/fashionMNIST-bayesian-optimization'"
      ]
     },
     "execution_count": 3,
     "metadata": {},
     "output_type": "execute_result"
    }
   ],
   "source": [
    "os.getcwd()"
   ]
  },
  {
   "cell_type": "code",
   "execution_count": 4,
   "metadata": {},
   "outputs": [],
   "source": [
    "# Hyper parameters\n",
    "num_epochs = 1\n",
    "num_classes = 10\n",
    "batch_size = 100\n",
    "learning_rate = 0.001"
   ]
  },
  {
   "cell_type": "code",
   "execution_count": 5,
   "metadata": {},
   "outputs": [],
   "source": [
    "from CNN_test_model import test_model"
   ]
  },
  {
   "cell_type": "code",
   "execution_count": null,
   "metadata": {},
   "outputs": [],
   "source": [
    "test_model(dropout = 0.2, learning_rate = 0.001)"
   ]
  },
  {
   "cell_type": "markdown",
   "metadata": {},
   "source": [
    "#### Random Search \n",
    "In this section we use random search (RS) to tune the hyperparameters of our CNN. This involves setting intervals or sets for each of the parameters we want to vary, and then randomly sampling from the a uniform distribution over them. The best performing set of hyperparameters is then chosen for the final model. "
   ]
  },
  {
   "cell_type": "code",
   "execution_count": 6,
   "metadata": {},
   "outputs": [],
   "source": [
    "from CNN_test_model import ConvNet"
   ]
  },
  {
   "cell_type": "code",
   "execution_count": 9,
   "metadata": {},
   "outputs": [],
   "source": [
    "param_dist = {'dropout': [0,1],\n",
    "             'learning_rate': [0,1]}\n",
    "num_iterations = 10"
   ]
  },
  {
   "cell_type": "code",
   "execution_count": 12,
   "metadata": {},
   "outputs": [],
   "source": [
    "def random_search(param_dist, num_iterations):\n",
    "        \n",
    "    sampled_values_error = {}\n",
    "    for j in list(param_dist.keys()) + [\"test_error\"]:\n",
    "        sampled_values_error[j] = [] \n",
    "        \n",
    "    for i in range(num_iterations): \n",
    "        for j in param_dist.keys():\n",
    "            sampled_values_error[j].append(np.random.uniform(0,1))\n",
    "        sampled_values_error[\"test_error\"].append(test_model(sampled_values_error[\"dropout\"][i],\n",
    "                                                            sampled_values_error[\"learning_rate\"][i])) \n",
    "        \n",
    "    max_index = np.argmax(sampled_values_error[\"test_error\"])\n",
    "    final_dropout = sampled_values_error[\"dropout\"][max_index]\n",
    "    final_learning_rate = sampled_values_error[\"learning_rate\"][max_index] \n",
    "    final_test_error = sampled_values_error[\"test_error\"][max_index] \n",
    "    \n",
    "    return sampled_values_error, final_dropout, final_learning_rate, final_test_error        "
   ]
  },
  {
   "cell_type": "code",
   "execution_count": 13,
   "metadata": {},
   "outputs": [
    {
     "name": "stdout",
     "output_type": "stream",
     "text": [
      "Epoch [1/1], Step [100/600], Loss: 1.2941\n",
      "Epoch [1/1], Step [200/600], Loss: 1.0232\n",
      "Epoch [1/1], Step [300/600], Loss: 1.0948\n",
      "Epoch [1/1], Step [400/600], Loss: 1.1096\n",
      "Epoch [1/1], Step [500/600], Loss: 1.4118\n",
      "Epoch [1/1], Step [600/600], Loss: 1.2286\n",
      "Test Accuracy of the model on the 10000 test images: 55.32 %\n",
      "Epoch [1/1], Step [100/600], Loss: 1.4361\n",
      "Epoch [1/1], Step [200/600], Loss: 1.3504\n",
      "Epoch [1/1], Step [300/600], Loss: 1.0686\n",
      "Epoch [1/1], Step [400/600], Loss: 1.2057\n",
      "Epoch [1/1], Step [500/600], Loss: 0.9206\n",
      "Epoch [1/1], Step [600/600], Loss: 1.1125\n",
      "Test Accuracy of the model on the 10000 test images: 63.68 %\n",
      "Epoch [1/1], Step [100/600], Loss: 1.7469\n",
      "Epoch [1/1], Step [200/600], Loss: 1.5002\n",
      "Epoch [1/1], Step [300/600], Loss: 1.2313\n",
      "Epoch [1/1], Step [400/600], Loss: 1.1710\n",
      "Epoch [1/1], Step [500/600], Loss: 1.0593\n",
      "Epoch [1/1], Step [600/600], Loss: 1.0974\n",
      "Test Accuracy of the model on the 10000 test images: 54.65 %\n",
      "Epoch [1/1], Step [100/600], Loss: 1.7845\n",
      "Epoch [1/1], Step [200/600], Loss: 2.3374\n",
      "Epoch [1/1], Step [300/600], Loss: 2.3117\n",
      "Epoch [1/1], Step [400/600], Loss: 2.3374\n",
      "Epoch [1/1], Step [500/600], Loss: 2.3102\n",
      "Epoch [1/1], Step [600/600], Loss: 2.2978\n",
      "Test Accuracy of the model on the 10000 test images: 10.43 %\n",
      "Epoch [1/1], Step [100/600], Loss: 2.1222\n",
      "Epoch [1/1], Step [200/600], Loss: 1.7892\n",
      "Epoch [1/1], Step [300/600], Loss: 1.7480\n",
      "Epoch [1/1], Step [400/600], Loss: 1.6915\n",
      "Epoch [1/1], Step [500/600], Loss: 1.5898\n",
      "Epoch [1/1], Step [600/600], Loss: 1.5118\n",
      "Test Accuracy of the model on the 10000 test images: 35.16 %\n",
      "Epoch [1/1], Step [100/600], Loss: 1.8738\n",
      "Epoch [1/1], Step [200/600], Loss: 2.3682\n",
      "Epoch [1/1], Step [300/600], Loss: 2.3599\n",
      "Epoch [1/1], Step [400/600], Loss: 2.3701\n",
      "Epoch [1/1], Step [500/600], Loss: 2.4092\n",
      "Epoch [1/1], Step [600/600], Loss: 2.3404\n",
      "Test Accuracy of the model on the 10000 test images: 9.92 %\n",
      "Epoch [1/1], Step [100/600], Loss: 2.3104\n",
      "Epoch [1/1], Step [200/600], Loss: 2.3676\n",
      "Epoch [1/1], Step [300/600], Loss: 2.3986\n",
      "Epoch [1/1], Step [400/600], Loss: 2.3160\n",
      "Epoch [1/1], Step [500/600], Loss: 2.3463\n",
      "Epoch [1/1], Step [600/600], Loss: 2.3341\n",
      "Test Accuracy of the model on the 10000 test images: 9.96 %\n",
      "Epoch [1/1], Step [100/600], Loss: 2.4671\n",
      "Epoch [1/1], Step [200/600], Loss: 2.6287\n",
      "Epoch [1/1], Step [300/600], Loss: 2.3094\n",
      "Epoch [1/1], Step [400/600], Loss: 2.5843\n",
      "Epoch [1/1], Step [500/600], Loss: 2.4920\n",
      "Epoch [1/1], Step [600/600], Loss: 2.9069\n",
      "Test Accuracy of the model on the 10000 test images: 9.91 %\n",
      "Epoch [1/1], Step [100/600], Loss: 2.2983\n",
      "Epoch [1/1], Step [200/600], Loss: 2.3284\n",
      "Epoch [1/1], Step [300/600], Loss: 2.2940\n",
      "Epoch [1/1], Step [400/600], Loss: 2.3595\n",
      "Epoch [1/1], Step [500/600], Loss: 2.3569\n",
      "Epoch [1/1], Step [600/600], Loss: 2.3286\n",
      "Test Accuracy of the model on the 10000 test images: 10.15 %\n",
      "Epoch [1/1], Step [100/600], Loss: 2.3516\n",
      "Epoch [1/1], Step [200/600], Loss: 2.3242\n",
      "Epoch [1/1], Step [300/600], Loss: 2.3163\n",
      "Epoch [1/1], Step [400/600], Loss: 2.4063\n",
      "Epoch [1/1], Step [500/600], Loss: 2.3178\n",
      "Epoch [1/1], Step [600/600], Loss: 2.3712\n",
      "Test Accuracy of the model on the 10000 test images: 9.65 %\n"
     ]
    }
   ],
   "source": [
    "dictionary, dropout, learning_rate, error = random_search(param_dist, num_iterations)"
   ]
  },
  {
   "cell_type": "markdown",
   "metadata": {},
   "source": [
    "#### Bayesian Optimisation\n",
    "In this section we apply BO to optimise the learning rate and dropout in the convolutional neural network with two convolutional layers. We utilise the pyGPGO package which can be found at the following link https://github.com/hawk31/pyGPGO, which uses gaussian processes to form a posterior distribution over the function we are trying to optimise. \n"
   ]
  },
  {
   "cell_type": "code",
   "execution_count": 14,
   "metadata": {},
   "outputs": [],
   "source": [
    "import numpy as np\n",
    "from pyGPGO.covfunc import matern32, dotProd\n",
    "from pyGPGO.acquisition import Acquisition\n",
    "from pyGPGO.surrogates.GaussianProcess import GaussianProcess\n",
    "from pyGPGO.GPGO import GPGO"
   ]
  },
  {
   "cell_type": "code",
   "execution_count": 15,
   "metadata": {},
   "outputs": [],
   "source": [
    "def bayes_optim(kernel, acquisition, param, max_iter):\n",
    "    np.random.seed(1337)\n",
    "    cov = kernel()\n",
    "    gp = GaussianProcess(cov) \n",
    "    acq = Acquisition(mode=acquisition)\n",
    "    gpgo = GPGO(gp, acq, test_model, param)\n",
    "    gpgo.run(max_iter)\n",
    "    return gpgo"
   ]
  },
  {
   "cell_type": "code",
   "execution_count": 36,
   "metadata": {},
   "outputs": [],
   "source": [
    "param = {'learning_rate': ('cont', (0.1,1)),\n",
    "        'dropout': ('cont', (0,1))}\n",
    "max_iter = 10 "
   ]
  },
  {
   "cell_type": "code",
   "execution_count": 17,
   "metadata": {},
   "outputs": [
    {
     "name": "stdout",
     "output_type": "stream",
     "text": [
      "Evaluation \t Proposed point \t  Current eval. \t Best eval.\n",
      "Epoch [1/1], Step [100/600], Loss: 2.3262\n",
      "Epoch [1/1], Step [200/600], Loss: 2.3122\n",
      "Epoch [1/1], Step [300/600], Loss: 2.3725\n",
      "Epoch [1/1], Step [400/600], Loss: 2.2933\n",
      "Epoch [1/1], Step [500/600], Loss: 2.3213\n",
      "Epoch [1/1], Step [600/600], Loss: 2.3010\n",
      "Test Accuracy of the model on the 10000 test images: 9.93 %\n",
      "Epoch [1/1], Step [100/600], Loss: 1.8976\n",
      "Epoch [1/1], Step [200/600], Loss: 1.6284\n",
      "Epoch [1/1], Step [300/600], Loss: 1.5974\n",
      "Epoch [1/1], Step [400/600], Loss: 1.6414\n",
      "Epoch [1/1], Step [500/600], Loss: 1.3170\n",
      "Epoch [1/1], Step [600/600], Loss: 1.5340\n",
      "Test Accuracy of the model on the 10000 test images: 39.49 %\n",
      "Epoch [1/1], Step [100/600], Loss: 2.3558\n",
      "Epoch [1/1], Step [200/600], Loss: 2.3287\n",
      "Epoch [1/1], Step [300/600], Loss: 2.3209\n",
      "Epoch [1/1], Step [400/600], Loss: 2.3425\n",
      "Epoch [1/1], Step [500/600], Loss: 2.2835\n",
      "Epoch [1/1], Step [600/600], Loss: 2.3242\n",
      "Test Accuracy of the model on the 10000 test images: 9.76 %\n",
      "init   \t [0.33582221 0.15868397]. \t  0.0993 \t 0.3949\n",
      "init   \t [0.35031387 0.45931689]. \t  0.3949 \t 0.3949\n",
      "init   \t [0.38890049 0.51839282]. \t  0.0976 \t 0.3949\n",
      "Epoch [1/1], Step [100/600], Loss: 1.3189\n",
      "Epoch [1/1], Step [200/600], Loss: 1.1004\n",
      "Epoch [1/1], Step [300/600], Loss: 1.0412\n",
      "Epoch [1/1], Step [400/600], Loss: 1.3073\n",
      "Epoch [1/1], Step [500/600], Loss: 1.0981\n",
      "Epoch [1/1], Step [600/600], Loss: 1.0695\n",
      "Test Accuracy of the model on the 10000 test images: 55.93 %\n",
      "1      \t [0.1      0.419439]. \t  \u001b[92m0.5593\u001b[0m \t 0.5593\n",
      "Epoch [1/1], Step [100/600], Loss: 1.2950\n",
      "Epoch [1/1], Step [200/600], Loss: 1.1472\n",
      "Epoch [1/1], Step [300/600], Loss: 1.1770\n",
      "Epoch [1/1], Step [400/600], Loss: 1.1295\n",
      "Epoch [1/1], Step [500/600], Loss: 1.0493\n",
      "Epoch [1/1], Step [600/600], Loss: 1.4131\n",
      "Test Accuracy of the model on the 10000 test images: 52.53 %\n",
      "2      \t [0.21677607 0.39388905]. \t  0.5253 \t 0.5593\n",
      "Epoch [1/1], Step [100/600], Loss: 1.4953\n",
      "Epoch [1/1], Step [200/600], Loss: 1.5661\n",
      "Epoch [1/1], Step [300/600], Loss: 1.3981\n",
      "Epoch [1/1], Step [400/600], Loss: 1.4254\n",
      "Epoch [1/1], Step [500/600], Loss: 1.3153\n",
      "Epoch [1/1], Step [600/600], Loss: 1.3468\n",
      "Test Accuracy of the model on the 10000 test images: 45.27 %\n",
      "3      \t [0.1        0.53921723]. \t  0.4527 \t 0.5593\n",
      "Epoch [1/1], Step [100/600], Loss: 1.5333\n",
      "Epoch [1/1], Step [200/600], Loss: 1.4930\n",
      "Epoch [1/1], Step [300/600], Loss: 1.5649\n",
      "Epoch [1/1], Step [400/600], Loss: 1.8784\n",
      "Epoch [1/1], Step [500/600], Loss: 1.4881\n",
      "Epoch [1/1], Step [600/600], Loss: 1.7396\n",
      "Test Accuracy of the model on the 10000 test images: 31.63 %\n",
      "4      \t [1. 0.]. \t  0.3163 \t 0.5593\n",
      "Epoch [1/1], Step [100/600], Loss: 2.3019\n",
      "Epoch [1/1], Step [200/600], Loss: 2.3132\n",
      "Epoch [1/1], Step [300/600], Loss: 2.4125\n",
      "Epoch [1/1], Step [400/600], Loss: 2.2960\n",
      "Epoch [1/1], Step [500/600], Loss: 2.4451\n",
      "Epoch [1/1], Step [600/600], Loss: 2.3938\n",
      "Test Accuracy of the model on the 10000 test images: 9.86 %\n",
      "5      \t [1.         0.35126699]. \t  0.0986 \t 0.5593\n",
      "Epoch [1/1], Step [100/600], Loss: 1.0485\n",
      "Epoch [1/1], Step [200/600], Loss: 0.8750\n",
      "Epoch [1/1], Step [300/600], Loss: 1.0156\n",
      "Epoch [1/1], Step [400/600], Loss: 0.9809\n",
      "Epoch [1/1], Step [500/600], Loss: 0.8700\n",
      "Epoch [1/1], Step [600/600], Loss: 1.0025\n",
      "Test Accuracy of the model on the 10000 test images: 63.7 %\n",
      "6      \t [0.1       0.3330131]. \t  \u001b[92m0.637\u001b[0m \t 0.637 \n",
      "Epoch [1/1], Step [100/600], Loss: 0.7945\n",
      "Epoch [1/1], Step [200/600], Loss: 1.0839\n",
      "Epoch [1/1], Step [300/600], Loss: 1.0240\n",
      "Epoch [1/1], Step [400/600], Loss: 0.9445\n",
      "Epoch [1/1], Step [500/600], Loss: 0.9847\n",
      "Epoch [1/1], Step [600/600], Loss: 0.7034\n",
      "Test Accuracy of the model on the 10000 test images: 66.84 %\n",
      "7      \t [0.1        0.25534493]. \t  \u001b[92m0.6684\u001b[0m \t 0.6684\n",
      "Epoch [1/1], Step [100/600], Loss: 0.4787\n",
      "Epoch [1/1], Step [200/600], Loss: 0.3933\n",
      "Epoch [1/1], Step [300/600], Loss: 0.3792\n",
      "Epoch [1/1], Step [400/600], Loss: 0.4239\n",
      "Epoch [1/1], Step [500/600], Loss: 0.3875\n",
      "Epoch [1/1], Step [600/600], Loss: 0.3498\n",
      "Test Accuracy of the model on the 10000 test images: 83.88 %\n",
      "8      \t [0.1 0. ]. \t  \u001b[92m0.8388\u001b[0m \t 0.8388\n",
      "Epoch [1/1], Step [100/600], Loss: 2.3026\n",
      "Epoch [1/1], Step [200/600], Loss: 2.3026\n",
      "Epoch [1/1], Step [300/600], Loss: 2.3026\n",
      "Epoch [1/1], Step [400/600], Loss: 2.3026\n",
      "Epoch [1/1], Step [500/600], Loss: 2.3026\n",
      "Epoch [1/1], Step [600/600], Loss: 2.3026\n",
      "Test Accuracy of the model on the 10000 test images: 10.0 %\n",
      "9      \t [1. 1.]. \t  0.1    \t 0.8388\n",
      "Epoch [1/1], Step [100/600], Loss: 2.3026\n",
      "Epoch [1/1], Step [200/600], Loss: 2.3026\n",
      "Epoch [1/1], Step [300/600], Loss: 2.3026\n",
      "Epoch [1/1], Step [400/600], Loss: 2.3026\n",
      "Epoch [1/1], Step [500/600], Loss: 2.3026\n",
      "Epoch [1/1], Step [600/600], Loss: 2.3026\n",
      "Test Accuracy of the model on the 10000 test images: 10.0 %\n",
      "10     \t [0.1 1. ]. \t  0.1    \t 0.8388\n"
     ]
    }
   ],
   "source": [
    "results = {} \n",
    "for kernel in [matern32, dotProd]: \n",
    "    for acquisition in [\"ExpectedImprovement\", \"UCB\"]:\n",
    "        start_time = time() \n",
    "        results[\"results_\"+kernel.__name__+\"_\"+acquisition] = [bayes_optim(kernel, acquisition,\n",
    "                                                                         param, max_iter)]"
   ]
  },
  {
   "cell_type": "markdown",
   "metadata": {},
   "source": [
    "###### Results \n",
    "Here we present the results graphically for random search and bayesian optimisation for 10 iterations. We find that \n"
   ]
  },
  {
   "cell_type": "code",
   "execution_count": 40,
   "metadata": {},
   "outputs": [
    {
     "ename": "KeyError",
     "evalue": "'results_matern32_UCB'",
     "output_type": "error",
     "traceback": [
      "\u001b[0;31m---------------------------------------------------------------------------\u001b[0m",
      "\u001b[0;31mKeyError\u001b[0m                                  Traceback (most recent call last)",
      "\u001b[0;32m<ipython-input-40-08181b544108>\u001b[0m in \u001b[0;36m<module>\u001b[0;34m()\u001b[0m\n\u001b[1;32m      1\u001b[0m \u001b[0;31m# Compute BO best test results at each iteration\u001b[0m\u001b[0;34m\u001b[0m\u001b[0;34m\u001b[0m\u001b[0m\n\u001b[1;32m      2\u001b[0m \u001b[0mtest_matern_EP\u001b[0m \u001b[0;34m=\u001b[0m \u001b[0mresults\u001b[0m\u001b[0;34m[\u001b[0m\u001b[0;34m'results_matern32_ExpectedImprovement'\u001b[0m\u001b[0;34m]\u001b[0m\u001b[0;34m[\u001b[0m\u001b[0;36m0\u001b[0m\u001b[0;34m]\u001b[0m\u001b[0;34m.\u001b[0m\u001b[0mhistory\u001b[0m\u001b[0;34m\u001b[0m\u001b[0m\n\u001b[0;32m----> 3\u001b[0;31m \u001b[0mtest_matern_UCB\u001b[0m \u001b[0;34m=\u001b[0m \u001b[0mresults\u001b[0m\u001b[0;34m[\u001b[0m\u001b[0;34m'results_matern32_UCB'\u001b[0m\u001b[0;34m]\u001b[0m\u001b[0;34m[\u001b[0m\u001b[0;36m0\u001b[0m\u001b[0;34m]\u001b[0m\u001b[0;34m.\u001b[0m\u001b[0mhistory\u001b[0m\u001b[0;34m\u001b[0m\u001b[0m\n\u001b[0m\u001b[1;32m      4\u001b[0m \u001b[0mtest_linear_EP\u001b[0m \u001b[0;34m=\u001b[0m \u001b[0mresults\u001b[0m\u001b[0;34m[\u001b[0m\u001b[0;34m'results_dotProd_ExpectedImprovement'\u001b[0m\u001b[0;34m]\u001b[0m\u001b[0;34m[\u001b[0m\u001b[0;36m0\u001b[0m\u001b[0;34m]\u001b[0m\u001b[0;34m.\u001b[0m\u001b[0mhistory\u001b[0m\u001b[0;34m\u001b[0m\u001b[0m\n\u001b[1;32m      5\u001b[0m \u001b[0mtest_linear_UCB\u001b[0m \u001b[0;34m=\u001b[0m \u001b[0mresults\u001b[0m\u001b[0;34m[\u001b[0m\u001b[0;34m'results_dotProd_UCB'\u001b[0m\u001b[0;34m]\u001b[0m\u001b[0;34m[\u001b[0m\u001b[0;36m0\u001b[0m\u001b[0;34m]\u001b[0m\u001b[0;34m.\u001b[0m\u001b[0mhistory\u001b[0m\u001b[0;34m\u001b[0m\u001b[0m\n",
      "\u001b[0;31mKeyError\u001b[0m: 'results_matern32_UCB'"
     ]
    }
   ],
   "source": [
    "# Compute Bayesian Optimisation best test results at each iteration \n",
    "test_matern_EP = results['results_matern32_ExpectedImprovement'][0].history\n",
    "test_matern_UCB = results['results_matern32_UCB'][0].history\n",
    "test_linear_EP = results['results_dotProd_ExpectedImprovement'][0].history\n",
    "test_linear_UCB = results['results_dotProd_UCB'][0].history"
   ]
  },
  {
   "cell_type": "code",
   "execution_count": 47,
   "metadata": {},
   "outputs": [],
   "source": [
    "# Random Search best test results at each iteration \n",
    "RS_test = dictionary[\"test_error\"]\n",
    "RS_best_test = [RS_test[0]]\n",
    "\n",
    "for i in range(1,len(RS_test)): \n",
    "    if RS_test[i] > RS_best_test[i-1]:\n",
    "        RS_best_test.append(RS_test[i])\n",
    "    else:\n",
    "        RS_best_test.append(RS_best_test[i-1])"
   ]
  },
  {
   "cell_type": "code",
   "execution_count": 64,
   "metadata": {},
   "outputs": [],
   "source": [
    "# iterations \n",
    "iterations = list(range(1,11))"
   ]
  },
  {
   "cell_type": "code",
   "execution_count": 70,
   "metadata": {},
   "outputs": [
    {
     "data": {
      "image/png": "[encoded data removed]",
      "text/plain": [
       "<Figure size 432x288 with 1 Axes>"
      ]
     },
     "metadata": {},
     "output_type": "display_data"
    }
   ],
   "source": [
    "# Plot test results\n",
    "plt.plot(iterations, test_matern_EP[1:11])\n",
    "plt.plot(iterations, test_matern_UCB)\n",
    "plt.plot(iterations, test_linear_EP)\n",
    "plt.plot(iterations, test_linear_UCB)\n",
    "plt.plot(iterations, RS_best_test)\n",
    "\n",
    "plt.legend(['Matern, EP', 'Matern, UCB', 'Linear, EP', 'Linear, UCB', 'Random Search'],\n",
    "           loc='upper left')\n",
    "plt.title('Best Test Accuracy at each iteration')\n",
    "plt.show()"
   ]
  }
 ],
 "metadata": {
  "kernelspec": {
   "display_name": "Python [default]",
   "language": "python",
   "name": "python3"
  },
  "language_info": {
   "codemirror_mode": {
    "name": "ipython",
    "version": 3
   },
   "file_extension": ".py",
   "mimetype": "text/x-python",
   "name": "python",
   "nbconvert_exporter": "python",
   "pygments_lexer": "ipython3",
   "version": "3.6.4"
  }
 },
 "nbformat": 4,
 "nbformat_minor": 2
}
